{
  "cells": [
    {
      "cell_type": "markdown",
      "metadata": {
        "id": "view-in-github",
        "colab_type": "text"
      },
      "source": [
        "<a href=\"https://colab.research.google.com/github/huramshina-l/learning.huramshina.2022/blob/main/numpy_solutions.ipynb\" target=\"_parent\"><img src=\"https://colab.research.google.com/assets/colab-badge.svg\" alt=\"Open In Colab\"/></a>"
      ]
    },
    {
      "cell_type": "code",
      "execution_count": null,
      "metadata": {
        "id": "qXxujf6Nq43S"
      },
      "outputs": [],
      "source": [
        "# задание a\n",
        "\n",
        "import numpy as np"
      ]
    },
    {
      "cell_type": "code",
      "execution_count": null,
      "metadata": {
        "id": "fANpjUxqPV7G",
        "colab": {
          "base_uri": "https://localhost:8080/"
        },
        "outputId": "89f9cb58-710e-44b3-aa85-26706c79aefa"
      },
      "outputs": [
        {
          "output_type": "stream",
          "name": "stdout",
          "text": [
            "[[0. 0. 0. 0. 0.]\n",
            " [0. 0. 0. 0. 0.]]\n"
          ]
        }
      ],
      "source": [
        "# задание b\n",
        "\n",
        "b = np.zeros((2,5))\n",
        "\n",
        "print(b)"
      ]
    },
    {
      "cell_type": "code",
      "execution_count": null,
      "metadata": {
        "id": "QMV02gZCRs07",
        "colab": {
          "base_uri": "https://localhost:8080/"
        },
        "outputId": "b6791fdb-eacc-44bf-8ade-73bf464c514f"
      },
      "outputs": [
        {
          "output_type": "stream",
          "name": "stdout",
          "text": [
            "[[1. 1.]\n",
            " [1. 1.]\n",
            " [1. 1.]\n",
            " [1. 1.]\n",
            " [1. 1.]]\n"
          ]
        }
      ],
      "source": [
        "# задание с\n",
        "\n",
        "\n",
        "c = np.ones((5,2))\n",
        "\n",
        "print(c)"
      ]
    },
    {
      "cell_type": "code",
      "execution_count": null,
      "metadata": {
        "id": "K6q2tL3yT3_B",
        "colab": {
          "base_uri": "https://localhost:8080/"
        },
        "outputId": "1e7c1eeb-15a2-40e0-cc92-a093da935096"
      },
      "outputs": [
        {
          "output_type": "stream",
          "name": "stdout",
          "text": [
            "[[5.]\n",
            " [5.]\n",
            " [5.]\n",
            " [5.]\n",
            " [5.]\n",
            " [5.]\n",
            " [5.]\n",
            " [5.]\n",
            " [5.]\n",
            " [5.]]\n"
          ]
        }
      ],
      "source": [
        "# задание d\n",
        "\n",
        "d = np.ones((10,1))*5\n",
        "\n",
        "print(d)"
      ]
    },
    {
      "cell_type": "code",
      "execution_count": null,
      "metadata": {
        "id": "cg93BZsLW8mE",
        "colab": {
          "base_uri": "https://localhost:8080/"
        },
        "outputId": "9b9bda50-485b-4e22-d90f-2b88af04d3e2"
      },
      "outputs": [
        {
          "output_type": "stream",
          "name": "stdout",
          "text": [
            "[10. 11. 12. 13. 14. 15. 16. 17. 18. 19. 20. 21. 22. 23. 24. 25. 26. 27.\n",
            " 28. 29. 30. 31. 32. 33. 34. 35. 36. 37. 38. 39. 40. 41. 42. 43. 44. 45.\n",
            " 46. 47. 48. 49. 50.]\n"
          ]
        }
      ],
      "source": [
        "# задание e\n",
        "\n",
        "e = np.linspace(10,50,41)\n",
        "\n",
        "print(e)\n"
      ]
    },
    {
      "cell_type": "code",
      "execution_count": null,
      "metadata": {
        "id": "guSV51_AauPj",
        "colab": {
          "base_uri": "https://localhost:8080/"
        },
        "outputId": "e04b0aa0-9a86-4492-862e-35f94006752f"
      },
      "outputs": [
        {
          "output_type": "stream",
          "name": "stdout",
          "text": [
            "[10 12 14 16 18 20 22 24 26 28 30 32 34 36 38 40 42 44 46 48 50]\n"
          ]
        }
      ],
      "source": [
        "# задание f\n",
        "\n",
        "f = np.arange(10,51,2)\n",
        "\n",
        "print(f)\n"
      ]
    },
    {
      "cell_type": "code",
      "execution_count": null,
      "metadata": {
        "id": "-_c2pvlncL9U",
        "colab": {
          "base_uri": "https://localhost:8080/"
        },
        "outputId": "bb91a3c3-33da-41f8-a572-95bbaa7118ec"
      },
      "outputs": [
        {
          "output_type": "stream",
          "name": "stdout",
          "text": [
            "[[0 1 2]\n",
            " [3 4 5]\n",
            " [6 7 8]]\n"
          ]
        }
      ],
      "source": [
        "# задание g\n",
        "\n",
        "g = np.arange(0,9).reshape(3,3)\n",
        "\n",
        "print(g)"
      ]
    },
    {
      "cell_type": "code",
      "source": [
        "# задание h\n",
        "y = np.eye(3)\n",
        "\n",
        "print(y)"
      ],
      "metadata": {
        "id": "p08sM7S8pJH9",
        "colab": {
          "base_uri": "https://localhost:8080/"
        },
        "outputId": "5bd6c9b4-d791-4496-a2c8-72ec495ad70c"
      },
      "execution_count": null,
      "outputs": [
        {
          "output_type": "stream",
          "name": "stdout",
          "text": [
            "[[1. 0. 0.]\n",
            " [0. 1. 0.]\n",
            " [0. 0. 1.]]\n"
          ]
        }
      ]
    },
    {
      "cell_type": "code",
      "execution_count": null,
      "metadata": {
        "id": "XNthuy2Pc-dI",
        "colab": {
          "base_uri": "https://localhost:8080/"
        },
        "outputId": "2e8fa641-8b15-4ba0-d4bd-58a1d9842397"
      },
      "outputs": [
        {
          "output_type": "stream",
          "name": "stdout",
          "text": [
            "0.33285679221102127\n"
          ]
        }
      ],
      "source": [
        "# задание i\n",
        "\n",
        "i = np.random.rand()\n",
        "\n",
        "print(i)"
      ]
    },
    {
      "cell_type": "code",
      "execution_count": null,
      "metadata": {
        "id": "PB2oKBKgd9-p",
        "colab": {
          "base_uri": "https://localhost:8080/"
        },
        "outputId": "56d78fd4-8bfe-4674-a90a-4e13a1320d1c"
      },
      "outputs": [
        {
          "output_type": "stream",
          "name": "stdout",
          "text": [
            "[[ 0.05489165 -0.58444482 -0.04612669 -0.45366366  1.50974492]\n",
            " [-0.82827785  1.14870037 -0.07173403  2.0942605  -0.48571376]\n",
            " [-1.47486011  0.8880737   0.0935893  -1.05844092 -1.19943586]\n",
            " [-0.93323885 -0.01018325 -0.57491408  0.58619708  0.91047039]\n",
            " [ 1.00406317 -0.26896257  0.06550703  0.57375966  0.14405854]]\n"
          ]
        }
      ],
      "source": [
        "# задание j\n",
        "\n",
        "j = np.random.randn(5,5)\n",
        "\n",
        "print(j)"
      ]
    },
    {
      "cell_type": "code",
      "execution_count": null,
      "metadata": {
        "id": "v5vex6DRfRIr",
        "colab": {
          "base_uri": "https://localhost:8080/"
        },
        "outputId": "3d142574-2c1c-4c2c-e18b-5c30c2527ca3"
      },
      "outputs": [
        {
          "output_type": "stream",
          "name": "stdout",
          "text": [
            "[[0.01 0.02 0.03 0.04 0.05 0.06 0.07 0.08 0.09 0.1 ]\n",
            " [0.11 0.12 0.13 0.14 0.15 0.16 0.17 0.18 0.19 0.2 ]\n",
            " [0.21 0.22 0.23 0.24 0.25 0.26 0.27 0.28 0.29 0.3 ]\n",
            " [0.31 0.32 0.33 0.34 0.35 0.36 0.37 0.38 0.39 0.4 ]\n",
            " [0.41 0.42 0.43 0.44 0.45 0.46 0.47 0.48 0.49 0.5 ]\n",
            " [0.51 0.52 0.53 0.54 0.55 0.56 0.57 0.58 0.59 0.6 ]\n",
            " [0.61 0.62 0.63 0.64 0.65 0.66 0.67 0.68 0.69 0.7 ]\n",
            " [0.71 0.72 0.73 0.74 0.75 0.76 0.77 0.78 0.79 0.8 ]\n",
            " [0.81 0.82 0.83 0.84 0.85 0.86 0.87 0.88 0.89 0.9 ]\n",
            " [0.91 0.92 0.93 0.94 0.95 0.96 0.97 0.98 0.99 1.  ]]\n"
          ]
        }
      ],
      "source": [
        "# задание k\n",
        "\n",
        "\n",
        "k = np.linspace(0.01, 1, 100).round(2).reshape(10,10)\n",
        "\n",
        "print(k)"
      ]
    },
    {
      "cell_type": "code",
      "execution_count": null,
      "metadata": {
        "id": "TYh6XpAOqR3k",
        "colab": {
          "base_uri": "https://localhost:8080/"
        },
        "outputId": "2d712682-0cf8-42b9-c3fd-a0819d20b1c6"
      },
      "outputs": [
        {
          "output_type": "stream",
          "name": "stdout",
          "text": [
            "[[ 1  2  3  4  5]\n",
            " [ 6  7  8  9 10]\n",
            " [11 12 13 14 15]\n",
            " [16 17 18 19 20]\n",
            " [21 22 23 24 25]]\n"
          ]
        }
      ],
      "source": [
        "# задание l\n",
        "\n",
        "mat = np.arange(1,26).reshape(5,5)\n",
        "\n",
        "print(mat)"
      ]
    },
    {
      "cell_type": "code",
      "execution_count": null,
      "metadata": {
        "id": "dw_0uczBq3Nw",
        "colab": {
          "base_uri": "https://localhost:8080/"
        },
        "outputId": "9a6c5730-7d1b-4614-a912-9e340cf10c43"
      },
      "outputs": [
        {
          "output_type": "stream",
          "name": "stdout",
          "text": [
            "[[12 13 14 15]\n",
            " [17 18 19 20]\n",
            " [22 23 24 25]]\n"
          ]
        }
      ],
      "source": [
        "print(mat[2:, 1:])"
      ]
    },
    {
      "cell_type": "code",
      "execution_count": null,
      "metadata": {
        "id": "mDrErAhb3V4k",
        "colab": {
          "base_uri": "https://localhost:8080/"
        },
        "outputId": "010199df-dd0f-458f-a27c-e3c8d6843b28"
      },
      "outputs": [
        {
          "output_type": "stream",
          "name": "stdout",
          "text": [
            "20\n"
          ]
        }
      ],
      "source": [
        "# задание m\n",
        "\n",
        "print(mat[3,4])"
      ]
    },
    {
      "cell_type": "code",
      "execution_count": null,
      "metadata": {
        "id": "gLfrUNrW3ciK",
        "colab": {
          "base_uri": "https://localhost:8080/"
        },
        "outputId": "994b1fd5-3243-4ba4-cfd0-7bb2cd12d0f5"
      },
      "outputs": [
        {
          "output_type": "stream",
          "name": "stdout",
          "text": [
            "[[ 2]\n",
            " [ 7]\n",
            " [12]]\n"
          ]
        }
      ],
      "source": [
        "# задание n\n",
        "\n",
        "z = mat[0:3, 1].reshape(3,1)\n",
        "print(z)"
      ]
    },
    {
      "cell_type": "code",
      "execution_count": null,
      "metadata": {
        "id": "L9-l8BS73aOj",
        "colab": {
          "base_uri": "https://localhost:8080/"
        },
        "outputId": "f9bbae7a-906a-42af-9569-dfc79d25870e"
      },
      "outputs": [
        {
          "output_type": "stream",
          "name": "stdout",
          "text": [
            "[21 22 23 24 25]\n"
          ]
        }
      ],
      "source": [
        "# задание o\n",
        "print(mat[4, :])"
      ]
    },
    {
      "cell_type": "code",
      "execution_count": null,
      "metadata": {
        "id": "ZDR5LrR43aFS",
        "colab": {
          "base_uri": "https://localhost:8080/"
        },
        "outputId": "2562f579-f083-4616-9650-8c46f4daf111"
      },
      "outputs": [
        {
          "output_type": "stream",
          "name": "stdout",
          "text": [
            "[[16 17 18 19 20]\n",
            " [21 22 23 24 25]]\n"
          ]
        }
      ],
      "source": [
        "# задание p\n",
        "\n",
        "print(mat[3:5, :])"
      ]
    },
    {
      "cell_type": "code",
      "execution_count": null,
      "metadata": {
        "id": "2myJ9K4v0esJ",
        "colab": {
          "base_uri": "https://localhost:8080/"
        },
        "outputId": "94d20637-d172-42b3-85ef-65054d171c2f"
      },
      "outputs": [
        {
          "output_type": "stream",
          "name": "stdout",
          "text": [
            "325\n"
          ]
        }
      ],
      "source": [
        "# задание q \n",
        "\n",
        "print(mat.sum())"
      ]
    },
    {
      "cell_type": "code",
      "execution_count": null,
      "metadata": {
        "id": "PrFPnsjN0L7K",
        "colab": {
          "base_uri": "https://localhost:8080/"
        },
        "outputId": "da260b5b-f71a-4c7d-d665-a8ddddaa9d5f"
      },
      "outputs": [
        {
          "output_type": "stream",
          "name": "stdout",
          "text": [
            "7.211102550927978\n"
          ]
        }
      ],
      "source": [
        "# задание r \n",
        "\n",
        "print(mat.std())"
      ]
    },
    {
      "cell_type": "code",
      "execution_count": null,
      "metadata": {
        "id": "yrAy5Ff91VWq",
        "colab": {
          "base_uri": "https://localhost:8080/"
        },
        "outputId": "0bd6eb7c-2711-42c2-9360-a52f3315e8f4"
      },
      "outputs": [
        {
          "output_type": "stream",
          "name": "stdout",
          "text": [
            "[55 60 65 70 75]\n"
          ]
        }
      ],
      "source": [
        "# задание s.\n",
        "\n",
        "print(mat.sum(axis=0))"
      ]
    }
  ],
  "metadata": {
    "colab": {
      "provenance": [],
      "toc_visible": true,
      "authorship_tag": "ABX9TyNHDW3jKY/jOhtubhE1lgF/",
      "include_colab_link": true
    },
    "kernelspec": {
      "display_name": "Python 3",
      "name": "python3"
    },
    "language_info": {
      "name": "python"
    }
  },
  "nbformat": 4,
  "nbformat_minor": 0
}